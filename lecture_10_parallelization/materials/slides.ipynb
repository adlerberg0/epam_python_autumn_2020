{
 "cells": [
  {
   "cell_type": "markdown",
   "metadata": {
    "collapsed": true,
    "slideshow": {
     "slide_type": "slide"
    }
   },
   "source": [
    "## Concurrency, parallelism and python"
   ]
  },
  {
   "cell_type": "markdown",
   "metadata": {
    "slideshow": {
     "slide_type": "slide"
    }
   },
   "source": [
    "### Process"
   ]
  },
  {
   "cell_type": "markdown",
   "metadata": {
    "slideshow": {
     "slide_type": "fragment"
    }
   },
   "source": [
    "<b>Процесс</b> — запущенная программа.\n",
    "* У каждого процесса есть изолированное от других\n",
    "процессов состояние:\n",
    "    * виртуальное адресное пространство,\n",
    "    * указатель на исполняемую инструкцию,\n",
    "    * стек вызовов,\n",
    "    * системные ресурсы, например, открытые файловые\n",
    "        дескрипторы.\n",
    "* Процессы удобны для одновременного выполнения\n",
    "нескольких задач.\n",
    "* Альтернативный способ: делегировать каждую задачу на\n",
    "выполнение потоку"
   ]
  },
  {
   "cell_type": "markdown",
   "metadata": {
    "slideshow": {
     "slide_type": "slide"
    }
   },
   "source": [
    "### Thread"
   ]
  },
  {
   "cell_type": "markdown",
   "metadata": {
    "slideshow": {
     "slide_type": "fragment"
    }
   },
   "source": [
    "Поток похож на процесс тем, что его исполнение\n",
    "происходит независимо от других потоков (и процессов).\n",
    "* В отличие от процесса поток исполняется внутри процесса\n",
    "и разделяет с ним адресное пространство и системные\n",
    "ресурсы.\n",
    "* Потоки удобны для одновременного выполнения\n",
    "нескольких задач, которым требуется доступ к\n",
    "разделяемому состоянию.\n",
    "* Совместным выполнением нескольких процессов и\n",
    "потоков управляет операционная система, поочерёдно\n",
    "разрешая каждому процессу или потоку использовать\n",
    "сколько-то циклов процессора."
   ]
  },
  {
   "cell_type": "code",
   "execution_count": 4,
   "metadata": {
    "slideshow": {
     "slide_type": "slide"
    }
   },
   "outputs": [],
   "source": [
    "import time\n",
    "import requests\n",
    "\n",
    "def fetch_response(url: str) -> requests.Response:\n",
    "    return requests.get(url)\n",
    "\n",
    "def print_status_codes(responses: list):\n",
    "    for r in responses:\n",
    "        print(r.status_code, end=\" \")"
   ]
  },
  {
   "cell_type": "code",
   "execution_count": 5,
   "metadata": {
    "slideshow": {
     "slide_type": "-"
    }
   },
   "outputs": [],
   "source": [
    "urls = [\n",
    "    \"https://docs.python.org/3/\",\n",
    "    \"https://google.com\",\n",
    "    \"https://example.com\",\n",
    "    \"https://python.org\",\n",
    "    \"https://www.youtube.com/\",\n",
    "    \"https://github.com/\",\n",
    "]"
   ]
  },
  {
   "cell_type": "markdown",
   "metadata": {
    "slideshow": {
     "slide_type": "slide"
    }
   },
   "source": [
    "### Simple (synchronously)"
   ]
  },
  {
   "cell_type": "code",
   "execution_count": 6,
   "metadata": {
    "slideshow": {
     "slide_type": "-"
    }
   },
   "outputs": [
    {
     "name": "stdout",
     "output_type": "stream",
     "text": [
      "200 200 200 200 200 200 CPU times: user 300 ms, sys: 20.3 ms, total: 320 ms\n",
      "Wall time: 2.2 s\n"
     ]
    }
   ],
   "source": [
    "%%time\n",
    "responses = [fetch_response(url) for url in urls]\n",
    "print_status_codes(responses) "
   ]
  },
  {
   "cell_type": "markdown",
   "metadata": {
    "slideshow": {
     "slide_type": "slide"
    }
   },
   "source": [
    "### multithreading"
   ]
  },
  {
   "cell_type": "code",
   "execution_count": 8,
   "metadata": {},
   "outputs": [],
   "source": [
    "from concurrent.futures import ThreadPoolExecutor"
   ]
  },
  {
   "cell_type": "code",
   "execution_count": 19,
   "metadata": {},
   "outputs": [
    {
     "name": "stdout",
     "output_type": "stream",
     "text": [
      "200 200 200 200 200 200 CPU times: user 207 ms, sys: 34.7 ms, total: 242 ms\n",
      "Wall time: 795 ms\n"
     ]
    }
   ],
   "source": [
    "%%time\n",
    "# max_workers is changed to min(32, os.cpu_count() + 4) python3.8+\n",
    "with ThreadPoolExecutor(max_workers=6) as pool:\n",
    "    responses = pool.map(fetch_response, urls)\n",
    "    print_status_codes(responses)"
   ]
  },
  {
   "cell_type": "markdown",
   "metadata": {
    "slideshow": {
     "slide_type": "slide"
    }
   },
   "source": [
    "### multiprocessing"
   ]
  },
  {
   "cell_type": "code",
   "execution_count": 17,
   "metadata": {},
   "outputs": [],
   "source": [
    "from concurrent.futures import ProcessPoolExecutor"
   ]
  },
  {
   "cell_type": "code",
   "execution_count": 22,
   "metadata": {},
   "outputs": [
    {
     "name": "stdout",
     "output_type": "stream",
     "text": [
      "200 200 200 200 200 200 CPU times: user 1.74 ms, sys: 43.4 ms, total: 45.1 ms\n",
      "Wall time: 666 ms\n"
     ]
    }
   ],
   "source": [
    "%%time\n",
    "# If max_workers is None or not given, it will default to the number of processors (cores) on the machine\n",
    "with ProcessPoolExecutor(max_workers=len(urls)) as pool:\n",
    "    responses = pool.map(fetch_response, urls)\n",
    "    print_status_codes(responses)"
   ]
  },
  {
   "cell_type": "markdown",
   "metadata": {
    "slideshow": {
     "slide_type": "slide"
    }
   },
   "source": [
    "### Another example"
   ]
  },
  {
   "cell_type": "code",
   "execution_count": 23,
   "metadata": {},
   "outputs": [],
   "source": [
    "import math\n",
    "\n",
    "PRIMES = [\n",
    "    112272535095293,\n",
    "    112582705942171,\n",
    "    112272535095293,\n",
    "    115280095190773,\n",
    "    115797848077099,\n",
    "    1099726899285419,\n",
    "]\n",
    "\n",
    "def is_prime(n):\n",
    "    if n < 2:\n",
    "        return False\n",
    "    if n == 2:\n",
    "        return True\n",
    "    if n % 2 == 0:\n",
    "        return False\n",
    "\n",
    "    sqrt_n = int(math.floor(math.sqrt(n)))\n",
    "    for i in range(3, sqrt_n + 1, 2):\n",
    "        if n % i == 0:\n",
    "            return False\n",
    "    return True"
   ]
  },
  {
   "cell_type": "markdown",
   "metadata": {
    "slideshow": {
     "slide_type": "slide"
    }
   },
   "source": [
    "### Simple (synchronously)"
   ]
  },
  {
   "cell_type": "code",
   "execution_count": 24,
   "metadata": {
    "slideshow": {
     "slide_type": "fragment"
    }
   },
   "outputs": [
    {
     "name": "stdout",
     "output_type": "stream",
     "text": [
      "112272535095293 is prime: True\n",
      "112582705942171 is prime: True\n",
      "112272535095293 is prime: True\n",
      "115280095190773 is prime: True\n",
      "115797848077099 is prime: True\n",
      "1099726899285419 is prime: False\n",
      "CPU times: user 4.02 s, sys: 0 ns, total: 4.02 s\n",
      "Wall time: 4.04 s\n"
     ]
    }
   ],
   "source": [
    "%%time\n",
    "for number, _is_prime in zip(PRIMES, map(is_prime, PRIMES)):\n",
    "    print(f'{number} is prime: {_is_prime}')"
   ]
  },
  {
   "cell_type": "markdown",
   "metadata": {
    "slideshow": {
     "slide_type": "fragment"
    }
   },
   "source": [
    "### multithreading"
   ]
  },
  {
   "cell_type": "code",
   "execution_count": 26,
   "metadata": {
    "slideshow": {
     "slide_type": "fragment"
    }
   },
   "outputs": [
    {
     "name": "stdout",
     "output_type": "stream",
     "text": [
      "112272535095293 is prime: True\n",
      "112582705942171 is prime: True\n",
      "112272535095293 is prime: True\n",
      "115280095190773 is prime: True\n",
      "115797848077099 is prime: True\n",
      "1099726899285419 is prime: False\n",
      "CPU times: user 3.78 s, sys: 30.4 ms, total: 3.81 s\n",
      "Wall time: 3.94 s\n"
     ]
    }
   ],
   "source": [
    "%%time\n",
    "with ThreadPoolExecutor() as pool:\n",
    "    for number, _is_prime in zip(PRIMES, pool.map(is_prime, PRIMES)):\n",
    "            print(f'{number} is prime: {_is_prime}')"
   ]
  },
  {
   "cell_type": "markdown",
   "metadata": {
    "slideshow": {
     "slide_type": "slide"
    }
   },
   "source": [
    "### multiprocessing"
   ]
  },
  {
   "cell_type": "code",
   "execution_count": 27,
   "metadata": {},
   "outputs": [
    {
     "name": "stdout",
     "output_type": "stream",
     "text": [
      "112272535095293 is prime: True\n",
      "112582705942171 is prime: True\n",
      "112272535095293 is prime: True\n",
      "115280095190773 is prime: True\n",
      "115797848077099 is prime: True\n",
      "1099726899285419 is prime: False\n",
      "CPU times: user 12 ms, sys: 24.8 ms, total: 36.7 ms\n",
      "Wall time: 2.54 s\n"
     ]
    }
   ],
   "source": [
    "%%time\n",
    "with ProcessPoolExecutor() as pool:\n",
    "    for number, _is_prime in zip(PRIMES, pool.map(is_prime, PRIMES)):\n",
    "            print(f'{number} is prime: {_is_prime}')"
   ]
  },
  {
   "cell_type": "markdown",
   "metadata": {
    "slideshow": {
     "slide_type": "slide"
    }
   },
   "source": [
    "### Why is there such a big difference?"
   ]
  },
  {
   "cell_type": "markdown",
   "metadata": {
    "slideshow": {
     "slide_type": "slide"
    }
   },
   "source": [
    "### parallelism and concurrency"
   ]
  },
  {
   "cell_type": "markdown",
   "metadata": {
    "slideshow": {
     "slide_type": "-"
    }
   },
   "source": [
    "![](https://s3.tproger.ru/uploads/2016/12/concepts3mini.png)"
   ]
  },
  {
   "cell_type": "markdown",
   "metadata": {
    "slideshow": {
     "slide_type": "slide"
    }
   },
   "source": [
    "### Why is there such a big difference?\n",
    "### Answer is GIL"
   ]
  },
  {
   "cell_type": "markdown",
   "metadata": {
    "slideshow": {
     "slide_type": "fragment"
    }
   },
   "source": [
    "* <b>GIL</b> (global interpreter lock) — это мьютекс, который гарантирует, что в каждый момент времени только один\n",
    "поток имеет доступ к состоянию интерпретатора.\n",
    "* Python C API позволяет отпустить GIL, но это безопасно только при работе с объектами, не зависящими от интерпретатора Python.\n",
    "* Например, все операции ввода/вывода в CPython отпускают GIL\n",
    "* переключение контекста каждые 5 миллисекунд (вытесняющая, принудительная многозадачность)"
   ]
  },
  {
   "cell_type": "code",
   "execution_count": null,
   "metadata": {},
   "outputs": [],
   "source": [
    "...\n",
    "Py_BEGIN_ALLOW_THREADS\n",
    "err = close(fd);\n",
    "if (err < 0)\n",
    "    save_errno = errno;\n",
    "Py_END_ALLOW_THREADS\n",
    "..."
   ]
  },
  {
   "cell_type": "markdown",
   "metadata": {
    "slideshow": {
     "slide_type": "slide"
    }
   },
   "source": [
    "### So GIL is bad?"
   ]
  },
  {
   "cell_type": "markdown",
   "metadata": {
    "slideshow": {
     "slide_type": "subslide"
    }
   },
   "source": [
    "### Nope! Depends on task"
   ]
  },
  {
   "cell_type": "markdown",
   "metadata": {
    "slideshow": {
     "slide_type": "slide"
    }
   },
   "source": [
    "### Have a snack?\n",
    "![](https://upload.wikimedia.org/wikipedia/commons/3/36/McDonald%27s_Golden_Arches.svg)"
   ]
  },
  {
   "cell_type": "markdown",
   "metadata": {
    "slideshow": {
     "slide_type": "slide"
    }
   },
   "source": [
    "### Lets order a coffee"
   ]
  },
  {
   "cell_type": "markdown",
   "metadata": {
    "slideshow": {
     "slide_type": "-"
    }
   },
   "source": [
    "![](https://i.imgur.com/XsSm55k.png)"
   ]
  },
  {
   "cell_type": "markdown",
   "metadata": {
    "slideshow": {
     "slide_type": "subslide"
    }
   },
   "source": [
    "### Look good, now lets order a Big Mac"
   ]
  },
  {
   "cell_type": "markdown",
   "metadata": {
    "slideshow": {
     "slide_type": "fragment"
    }
   },
   "source": [
    "\n",
    "![](https://cdn-images-1.medium.com/max/720/0*APVcPuyDaIKSDZPz.png)\n"
   ]
  },
  {
   "cell_type": "markdown",
   "metadata": {
    "slideshow": {
     "slide_type": "subslide"
    }
   },
   "source": [
    "### Roman, where is the relation?"
   ]
  },
  {
   "cell_type": "markdown",
   "metadata": {
    "slideshow": {
     "slide_type": "fragment"
    }
   },
   "source": [
    "![](https://i.imgur.com/3zAfnP7.png)"
   ]
  },
  {
   "cell_type": "markdown",
   "metadata": {
    "slideshow": {
     "slide_type": "slide"
    }
   },
   "source": [
    "### I/O bound tasks vs CPU bound tasks\n",
    "![](https://i.imgur.com/8F3Roo8.png)"
   ]
  },
  {
   "cell_type": "markdown",
   "metadata": {
    "slideshow": {
     "slide_type": "slide"
    }
   },
   "source": [
    "### GIL doesn't save you from logical errors"
   ]
  },
  {
   "cell_type": "code",
   "execution_count": 4,
   "metadata": {},
   "outputs": [
    {
     "name": "stdout",
     "output_type": "stream",
     "text": [
      "407  --  497900\n",
      "699  --  489900\n"
     ]
    }
   ],
   "source": [
    "for i in range(1000):\n",
    "    counter = 0\n",
    "\n",
    "    def increment_counter(fake_value):\n",
    "        global counter\n",
    "        for _ in range(100):\n",
    "            counter = counter + 1\n",
    "\n",
    "\n",
    "    fake_data = [x for x in range(5000)]\n",
    "    with ThreadPoolExecutor(max_workers=5000) as executor:\n",
    "        executor.map(increment_counter, fake_data)\n",
    "    if counter != 500000:\n",
    "        print(i,\" -- \", counter)"
   ]
  },
  {
   "cell_type": "code",
   "execution_count": null,
   "metadata": {
    "slideshow": {
     "slide_type": "subslide"
    }
   },
   "outputs": [],
   "source": [
    "from threading import Lock, RLock\n",
    "lock = RLock()\n",
    "\n",
    "for i in range(1000):\n",
    "    counter = 0\n",
    "\n",
    "    def increment_counter(fake_value):\n",
    "        global counter\n",
    "        for _ in range(100):\n",
    "            with lock:\n",
    "                counter += 1\n",
    "\n",
    "\n",
    "    fake_data = [x for x in range(5000)]\n",
    "    with ThreadPoolExecutor(max_workers=5000) as executor:\n",
    "        executor.map(increment_counter, fake_data)\n",
    "    if counter != 500000:\n",
    "        print(counter)"
   ]
  },
  {
   "cell_type": "markdown",
   "metadata": {
    "slideshow": {
     "slide_type": "subslide"
    }
   },
   "source": [
    "### + multithreading is hardly scalable"
   ]
  },
  {
   "cell_type": "markdown",
   "metadata": {
    "slideshow": {
     "slide_type": "slide"
    }
   },
   "source": [
    "### asyncio"
   ]
  },
  {
   "cell_type": "markdown",
   "metadata": {
    "slideshow": {
     "slide_type": "fragment"
    }
   },
   "source": [
    "* works in one thread\n",
    "* use eventloop and generator concepts; single Python object, called the event loop, controls how and when each task gets run\n",
    "* tasks never give up control without intentionally doing so -> thread safe\n",
    "* context switch on **await** statement (cooperative multitasking)"
   ]
  },
  {
   "cell_type": "markdown",
   "metadata": {
    "slideshow": {
     "slide_type": "fragment"
    }
   },
   "source": [
    "![](https://eng.paxos.com/hs-fs/hubfs/_02_Paxos_Engineering/Event-Loop.png?width=1200&name=Event-Loop.png)"
   ]
  },
  {
   "cell_type": "code",
   "execution_count": 29,
   "metadata": {
    "slideshow": {
     "slide_type": "fragment"
    }
   },
   "outputs": [
    {
     "name": "stdout",
     "output_type": "stream",
     "text": [
      "Hello ...\n"
     ]
    },
    {
     "ename": "TypeError",
     "evalue": "object NoneType can't be used in 'await' expression",
     "output_type": "error",
     "traceback": [
      "\u001B[0;31m---------------------------------------------------------------------------\u001B[0m",
      "\u001B[0;31mTypeError\u001B[0m                                 Traceback (most recent call last)",
      "\u001B[0;32m<ipython-input-29-9f1cb023c23d>\u001B[0m in \u001B[0;36m<module>\u001B[0;34m\u001B[0m\n\u001B[1;32m     10\u001B[0m \u001B[0;34m\u001B[0m\u001B[0m\n\u001B[1;32m     11\u001B[0m \u001B[0;31m# Python 3.7+\u001B[0m\u001B[0;34m\u001B[0m\u001B[0;34m\u001B[0m\u001B[0;34m\u001B[0m\u001B[0m\n\u001B[0;32m---> 12\u001B[0;31m \u001B[0;32mawait\u001B[0m \u001B[0mmain\u001B[0m\u001B[0;34m(\u001B[0m\u001B[0;34m)\u001B[0m\u001B[0;34m\u001B[0m\u001B[0;34m\u001B[0m\u001B[0m\n\u001B[0m\u001B[1;32m     13\u001B[0m \u001B[0;31m# asyncio.run(main())\u001B[0m\u001B[0;34m\u001B[0m\u001B[0;34m\u001B[0m\u001B[0;34m\u001B[0m\u001B[0m\n",
      "\u001B[0;32m<ipython-input-29-9f1cb023c23d>\u001B[0m in \u001B[0;36mmain\u001B[0;34m()\u001B[0m\n\u001B[1;32m      6\u001B[0m \u001B[0;32masync\u001B[0m \u001B[0;32mdef\u001B[0m \u001B[0mmain\u001B[0m\u001B[0;34m(\u001B[0m\u001B[0;34m)\u001B[0m\u001B[0;34m:\u001B[0m\u001B[0;34m\u001B[0m\u001B[0;34m\u001B[0m\u001B[0m\n\u001B[1;32m      7\u001B[0m     \u001B[0mprint\u001B[0m\u001B[0;34m(\u001B[0m\u001B[0;34m'Hello ...'\u001B[0m\u001B[0;34m)\u001B[0m\u001B[0;34m\u001B[0m\u001B[0;34m\u001B[0m\u001B[0m\n\u001B[0;32m----> 8\u001B[0;31m     \u001B[0;32mawait\u001B[0m \u001B[0msleep\u001B[0m\u001B[0;34m(\u001B[0m\u001B[0;36m1\u001B[0m\u001B[0;34m)\u001B[0m\u001B[0;34m\u001B[0m\u001B[0;34m\u001B[0m\u001B[0m\n\u001B[0m\u001B[1;32m      9\u001B[0m     \u001B[0mprint\u001B[0m\u001B[0;34m(\u001B[0m\u001B[0;34m'... World!'\u001B[0m\u001B[0;34m)\u001B[0m\u001B[0;34m\u001B[0m\u001B[0;34m\u001B[0m\u001B[0m\n\u001B[1;32m     10\u001B[0m \u001B[0;34m\u001B[0m\u001B[0m\n",
      "\u001B[0;32m<ipython-input-29-9f1cb023c23d>\u001B[0m in \u001B[0;36msleep\u001B[0;34m(seconds)\u001B[0m\n\u001B[1;32m      2\u001B[0m \u001B[0;34m\u001B[0m\u001B[0m\n\u001B[1;32m      3\u001B[0m \u001B[0;32masync\u001B[0m \u001B[0;32mdef\u001B[0m \u001B[0msleep\u001B[0m\u001B[0;34m(\u001B[0m\u001B[0mseconds\u001B[0m\u001B[0;34m)\u001B[0m\u001B[0;34m:\u001B[0m\u001B[0;34m\u001B[0m\u001B[0;34m\u001B[0m\u001B[0m\n\u001B[0;32m----> 4\u001B[0;31m     \u001B[0;32mawait\u001B[0m \u001B[0mtime\u001B[0m\u001B[0;34m.\u001B[0m\u001B[0msleep\u001B[0m\u001B[0;34m(\u001B[0m\u001B[0mseconds\u001B[0m\u001B[0;34m)\u001B[0m\u001B[0;34m\u001B[0m\u001B[0;34m\u001B[0m\u001B[0m\n\u001B[0m\u001B[1;32m      5\u001B[0m \u001B[0;34m\u001B[0m\u001B[0m\n\u001B[1;32m      6\u001B[0m \u001B[0;32masync\u001B[0m \u001B[0;32mdef\u001B[0m \u001B[0mmain\u001B[0m\u001B[0;34m(\u001B[0m\u001B[0;34m)\u001B[0m\u001B[0;34m:\u001B[0m\u001B[0;34m\u001B[0m\u001B[0;34m\u001B[0m\u001B[0m\n",
      "\u001B[0;31mTypeError\u001B[0m: object NoneType can't be used in 'await' expression"
     ]
    }
   ],
   "source": [
    "import asyncio\n",
    "\n",
    "async def sleep(seconds):\n",
    "    await asyncio.sleep(seconds)\n",
    "\n",
    "async def main():\n",
    "    print('Hello ...')\n",
    "    await sleep(1)\n",
    "    print('... World!')\n",
    "\n",
    "# Python 3.7+\n",
    "await main()\n",
    "# asyncio.run(main())"
   ]
  },
  {
   "cell_type": "markdown",
   "metadata": {
    "slideshow": {
     "slide_type": "subslide"
    }
   },
   "source": [
    "We say that an object is an `awaitable` object if it can be used in an **await** expression. Many asyncio APIs are designed to accept awaitables.\n",
    "\n",
    "There are three main types of awaitable objects: \n",
    "* Сoroutines\n",
    "* Tasks\n",
    "* Futures."
   ]
  },
  {
   "cell_type": "markdown",
   "metadata": {
    "slideshow": {
     "slide_type": "slide"
    }
   },
   "source": [
    "### Coroutines example"
   ]
  },
  {
   "cell_type": "code",
   "execution_count": 31,
   "metadata": {
    "scrolled": true,
    "slideshow": {
     "slide_type": "fragment"
    }
   },
   "outputs": [
    {
     "name": "stdout",
     "output_type": "stream",
     "text": [
      "Started\n",
      "hello\n",
      "world\n",
      "Finished\n",
      "Started\n",
      "hello\n",
      "world\n",
      "Finished\n",
      "It took 6.010281562805176 seconds\n"
     ]
    }
   ],
   "source": [
    "# bad example\n",
    "import time\n",
    "import asyncio\n",
    "\n",
    "async def say_after(delay, what):\n",
    "    await asyncio.sleep(delay)  # (4) (5)\n",
    "    print(what) # (6)\n",
    "\n",
    "async def main():\n",
    "    print(\"Started\")  # (2)\n",
    "\n",
    "    await say_after(1, 'hello')  # (3) (7)\n",
    "    await say_after(2, 'world') # (8)\n",
    "    print(\"Finished\") # (9)\n",
    "    \n",
    "t1 = time.time()\n",
    "await main() # (10)\n",
    "# asyncio.run(main())\n",
    "t2 = time.time()\n",
    "print(f\"It took {t2 - t1} seconds\")"
   ]
  },
  {
   "cell_type": "markdown",
   "metadata": {
    "slideshow": {
     "slide_type": "fragment"
    }
   },
   "source": [
    "1. coroutine created and event loop stared with that coroutine in the queue, control returned to event loop, event loop starts the coroutine (main)\n",
    "2. prints text in the main function\n",
    "3. coroutine added to event loop queue, control passed to event loop, event loop starts the coroutine (say_after(1, 'hello'))\n",
    "4. coroutine added to event loop queue, control returned to event loop, event loop is looping\n",
    "5. event loop wait until the coroutine finished and control passed to function\n",
    "6. do some stuff with IO and exit function, It is await function and control passed to event loop after it finished.\n",
    "7. loop see that it can return control to main function\n",
    "8. once more schedule, wait until finished.\n",
    "9. print to IO and finish. Event loop closed.\n",
    "10. event loop shuts down"
   ]
  },
  {
   "cell_type": "markdown",
   "metadata": {
    "slideshow": {
     "slide_type": "slide"
    }
   },
   "source": [
    "### Tasks example"
   ]
  },
  {
   "cell_type": "markdown",
   "metadata": {
    "slideshow": {
     "slide_type": "-"
    }
   },
   "source": [
    "<b>Tasks are used to schedule coroutines concurrently.</b> <br> When a coroutine is wrapped into a Task with functions like `asyncio.create_task()` the coroutine is automatically scheduled and will run as soon as control passed to event loop."
   ]
  },
  {
   "cell_type": "code",
   "execution_count": 35,
   "metadata": {
    "slideshow": {
     "slide_type": "fragment"
    }
   },
   "outputs": [
    {
     "name": "stdout",
     "output_type": "stream",
     "text": [
      "Started\n",
      "Finished\n",
      "It took 0.002053499221801758 seconds\n",
      "hello\n",
      "world\n"
     ]
    }
   ],
   "source": [
    "async def main():\n",
    "    task1 = asyncio.create_task(\n",
    "        say_after(1, 'hello'))\n",
    "    task2 = asyncio.create_task(\n",
    "        say_after(2, 'world'))\n",
    "\n",
    "    print(\"Started\")\n",
    "    # Wait until both tasks are completed\n",
    "    # (should take around 2 seconds.)\n",
    "    await task1\n",
    "    await task2 \n",
    "    print(\"Finished\")\n",
    "\n",
    "t1 = time.time()\n",
    "await main()\n",
    "# asyncio.run(main())\n",
    "t2 = time.time()\n",
    "print(f\"It took {t2 - t1} seconds\")"
   ]
  },
  {
   "cell_type": "markdown",
   "metadata": {},
   "source": [
    "This code do a magic trick, all tasks in the queue started when first await is called. `await task1` will start both `task1` and `task2`. Keep in mind, if you await a coroutine (`await say_after(1, 'oops')`, it will not trigger any task start."
   ]
  },
  {
   "cell_type": "markdown",
   "metadata": {
    "slideshow": {
     "slide_type": "subslide"
    }
   },
   "source": [
    "![](http://onreader.mdl.ru/MasteringConcurrencyInPython/content/figures/Fig1001.jpg)"
   ]
  },
  {
   "cell_type": "markdown",
   "metadata": {
    "slideshow": {
     "slide_type": "slide"
    }
   },
   "source": [
    "### Futures example\n",
    "\n",
    "A **Future** is a special low-level awaitable object that represents an eventual result of an asynchronous operation. <br>\n",
    "Future objects are used to bridge **low-level callback-based code** with high-level async/await code. <br>\n",
    "Normally **there is no need** to create Future objects at the application level code. Future objects, sometimes exposed by libraries and some asyncio APIs, can be awaited."
   ]
  },
  {
   "cell_type": "code",
   "execution_count": 36,
   "metadata": {
    "scrolled": true,
    "slideshow": {
     "slide_type": "fragment"
    }
   },
   "outputs": [
    {
     "name": "stdout",
     "output_type": "stream",
     "text": [
      "hello ...\n",
      "... world\n",
      "It took 1.0015125274658203 seconds\n"
     ]
    }
   ],
   "source": [
    "import time\n",
    "import asyncio\n",
    "\n",
    "async def set_after(fut, delay, value):\n",
    "    # Sleep for *delay* seconds.\n",
    "    await asyncio.sleep(delay)\n",
    "\n",
    "    # Set *value* as a result of *fut* Future.\n",
    "    fut.set_result(value)\n",
    "\n",
    "async def main():\n",
    "    # Get the current event loop.\n",
    "    loop = asyncio.get_running_loop()\n",
    "\n",
    "    # Create a new Future object.\n",
    "    fut = loop.create_future()\n",
    "\n",
    "    # Run \"set_after()\" coroutine in a parallel Task.\n",
    "    # We are using the low-level \"loop.create_task()\" API here because\n",
    "    # we already have a reference to the event loop at hand.\n",
    "    # Otherwise we could have just used \"asyncio.create_task()\".\n",
    "    loop.create_task(\n",
    "        set_after(fut, 1, '... world'))\n",
    "\n",
    "    print('hello ...')\n",
    "\n",
    "    # Wait until *fut* has a result (1 second) and print it.\n",
    "    print(await fut)\n",
    "    \n",
    "t1 = time.time()\n",
    "await main()\n",
    "# asyncio.run(main())\n",
    "t2 = time.time()\n",
    "print(f\"It took {t2 - t1} seconds\")"
   ]
  },
  {
   "cell_type": "markdown",
   "metadata": {
    "slideshow": {
     "slide_type": "slide"
    }
   },
   "source": [
    "### Network example"
   ]
  },
  {
   "cell_type": "code",
   "execution_count": 39,
   "metadata": {
    "slideshow": {
     "slide_type": "-"
    }
   },
   "outputs": [
    {
     "name": "stdout",
     "output_type": "stream",
     "text": [
      "200 200 200 200 200 200 CPU times: user 218 ms, sys: 16.1 ms, total: 234 ms\n",
      "Wall time: 800 ms\n"
     ]
    }
   ],
   "source": [
    "%%time\n",
    "# max_workers is changed to min(32, os.cpu_count() + 4) python3.8+\n",
    "with ThreadPoolExecutor(max_workers=len(urls)) as pool:\n",
    "    responses = pool.map(fetch_response, urls)\n",
    "    print_status_codes(responses)"
   ]
  },
  {
   "cell_type": "code",
   "execution_count": 47,
   "metadata": {},
   "outputs": [
    {
     "name": "stdout",
     "output_type": "stream",
     "text": [
      "It took 2.0783252716064453 seconds\n",
      "200\n",
      "200\n",
      "200\n",
      "200\n",
      "200\n",
      "200\n"
     ]
    }
   ],
   "source": [
    "async def fetch_response(url: str) -> requests.Response:\n",
    "    return requests.get(url)\n",
    "\n",
    "async def main():\n",
    "    t1 = time.time()\n",
    "    tasks = [asyncio.create_task(fetch_response(url)) for url in urls]\n",
    "#     for task in tasks:\n",
    "#         await task\n",
    "    await asyncio.gather(*tasks)\n",
    "    t2 = time.time()\n",
    "\n",
    "    print(f\"It took {t2 - t1} seconds\")\n",
    "    for task in tasks:\n",
    "        print(task.result().status_code)\n",
    "        \n",
    "await main()"
   ]
  },
  {
   "cell_type": "code",
   "execution_count": null,
   "metadata": {
    "scrolled": true,
    "slideshow": {
     "slide_type": "fragment"
    }
   },
   "outputs": [],
   "source": [
    "async def fetch_response(url: str) -> requests.Response:\n",
    "    return requests.get(url)\n",
    "\n",
    "async def main():\n",
    "    t1 = time.time()\n",
    "    tasks = [asyncio.create_task(fetch_response(url)) for url in urls]\n",
    "    for task in tasks:\n",
    "        await task\n",
    "    t2 = time.time()\n",
    "\n",
    "    print(f\"It took {t2 - t1} seconds\")\n",
    "    for task in tasks:\n",
    "        print(task.result().status_code, end= \" \")\n",
    "        \n",
    "await main()\n",
    "# asyncio.run(main())"
   ]
  },
  {
   "cell_type": "markdown",
   "metadata": {
    "slideshow": {
     "slide_type": "fragment"
    }
   },
   "source": [
    "Python `requests` calls are blocking calls. <br>\n",
    "To make pure async calls you will need event loop embedded into the client."
   ]
  },
  {
   "cell_type": "markdown",
   "metadata": {
    "slideshow": {
     "slide_type": "slide"
    }
   },
   "source": [
    "### aiohttp client"
   ]
  },
  {
   "cell_type": "code",
   "execution_count": 50,
   "metadata": {
    "slideshow": {
     "slide_type": "fragment"
    }
   },
   "outputs": [
    {
     "name": "stdout",
     "output_type": "stream",
     "text": [
      "It took 0.5278007984161377 seconds\n",
      "200 200 200 200 200 200 "
     ]
    }
   ],
   "source": [
    "# bad example\n",
    "import aiohttp\n",
    "\n",
    "async def fetch_response(url):\n",
    "    async with aiohttp.ClientSession() as session:\n",
    "        async with session.get(url) as response:\n",
    "            return response\n",
    "\n",
    "\n",
    "async def main():\n",
    "    t1 = time.time()\n",
    "    tasks = [asyncio.create_task(fetch_response(url)) for url in urls]\n",
    "    await asyncio.gather(*tasks)\n",
    "    t2 = time.time()\n",
    "\n",
    "    print(f\"It took {t2 - t1} seconds\")\n",
    "    for task in tasks:\n",
    "        print(task.result().status, end=\" \")\n",
    "\n",
    "        \n",
    "await main()\n",
    "# asyncio.run(main())"
   ]
  },
  {
   "cell_type": "code",
   "execution_count": null,
   "metadata": {
    "slideshow": {
     "slide_type": "subslide"
    }
   },
   "outputs": [],
   "source": [
    "# good example\n",
    "async def fetch_response(url):\n",
    "    async with aiohttp.ClientSession() as session:\n",
    "        async with session.get(url) as response:\n",
    "            return response\n",
    "\n",
    "async def main():\n",
    "    tasks = [asyncio.create_task(fetch_response(url)) for url in urls]\n",
    "\n",
    "    t1 = time.time()\n",
    "    await asyncio.gather(*tasks)\n",
    "    t2 = time.time()\n",
    "\n",
    "    print(f\"It took {t2 - t1} seconds\")\n",
    "    for task in tasks:\n",
    "        print(task.result().status, end=\" \")\n",
    "\n",
    "\n",
    "await main()"
   ]
  },
  {
   "cell_type": "markdown",
   "metadata": {
    "slideshow": {
     "slide_type": "slide"
    }
   },
   "source": [
    "### Conclusion\n",
    "\n",
    "* there are different approaches to make your program run faster (multithreading, multiprocessing, async), so\n",
    "* Once you’ve decided that you should optimize your program, figuring out if your program is **CPU-bound** or **I/O-bound** is a great next step.\n",
    "* For I/O-bound problems, there’s a general rule of thumb in the Python community: “Use asyncio when you can, threading when you must.”\n",
    "* async approach effectively utilizes resources when task is IO bound, it will work more effective under heavy load.\n",
    "* not all IO libraries have async analogues, using both async and sync code together may degrade system performance to sync level.\n",
    "* you can use async model outside of your application by using external tools like [celery](https://docs.celeryproject.org/en/stable/getting-started/introduction.html)"
   ]
  },
  {
   "cell_type": "markdown",
   "metadata": {},
   "source": [
    "![](https://files.realpython.com/media/Screen_Shot_2018-10-17_at_3.18.44_PM.c02792872031.jpg)"
   ]
  },
  {
   "cell_type": "markdown",
   "metadata": {
    "slideshow": {
     "slide_type": "slide"
    }
   },
   "source": [
    "### Materials\n",
    "#### Documentation:\n",
    "* [Concurrent Execution in python](https://docs.python.org/3/library/concurrency.html)\n",
    "* [concurrent.futures](https://docs.python.org/3/library/concurrent.futures.html)\n",
    "* [multiprocessing ](https://docs.python.org/3/library/multiprocessing.html)\n",
    "* [asyncio](https://docs.python.org/3/library/asyncio.html)\n",
    "* [Celery](https://docs.celeryproject.org/en/stable/getting-started/introduction.html)\n",
    "####  Videos to watch\n",
    "* [McDonalds и Python](https://www.youtube.com/watch?v=b3iXdDmXm7s&t=167s&ab_channel=%D0%94%D0%B8%D0%B4%D0%B6%D0%B8%D1%82%D0%B0%D0%BB%D0%B8%D0%B7%D0%B8%D1%80%D1%83%D0%B9%21)\n",
    "* [Многопроцессность, многопоточность, асинхронность в Python](https://www.youtube.com/watch?v=JIp14T9bvvc&ab_channel=%D0%94%D0%B8%D0%B4%D0%B6%D0%B8%D1%82%D0%B0%D0%BB%D0%B8%D0%B7%D0%B8%D1%80%D1%83%D0%B9%21)\n",
    "* [Многопоточность и GIL](https://www.youtube.com/watch?v=nR8WhdcRJwM&ab_channel=ComputerScienceCenter)\n",
    "* [GIL в Python: зачем он нужен и как с этим жить](https://www.youtube.com/watch?v=AWX4JnAnjBE&ab_channel=MoscowPython)\n",
    "* [Андрей Светлов: \"Подводные камни asyncio\"](https://www.youtube.com/watch?v=GLN_xo4Awcc&ab_channel=PiterPy)\n",
    "#### Real python ultimate guides\n",
    "* [Speed Up Your Python Program With Concurrency](https://realpython.com/python-concurrency/)\n",
    "* [Async IO in Python: A Complete Walkthrough](https://realpython.com/async-io-python/)\n",
    "#### Others\n",
    "* [Асинхронное программирование в Python](https://tproger.ru/translations/asynchronous-programming-in-python/)\n",
    "* [Зачем, когда и как использовать multithreading и multiprocessing в Python](https://habr.com/ru/company/otus/blog/501056/)\n",
    "* [Asynchronous programming. Python3.5+](https://luminousmen.com/post/asynchronous-programming-python3.5)\n",
    "* [How does asyncio work?](https://stackoverflow.com/questions/49005651/how-does-asyncio-actually-work/51116910#51116910)\n",
    "* [Concurrent computing (by Andrey Solomatin)](https://github.com/Cjkjvfnby/presentation-async/blob/master/src/main/asciidoc/presentation.adoc)"
   ]
  },
  {
   "cell_type": "markdown",
   "metadata": {
    "slideshow": {
     "slide_type": "slide"
    }
   },
   "source": [
    "### Homework\n",
    "Ваша задача спарсить информацию о компаниях, находящихся в индексе S&P 500 с данного сайта: <br>\n",
    "https://markets.businessinsider.com/index/components/s&p_500\n",
    "\n",
    "Для каждой компании собрать следующую информацию:\n",
    "* Текущая стоимость в рублях (конвертацию производить по текущему курсу, взятому с сайта [центробанка РФ](http://www.cbr.ru/development/sxml/))\n",
    "* Код компании (справа от названия компании на странице компании)\n",
    "* P/E компании (информация находится справа от графика на странице компании)\n",
    "* Годовой рост/падение компании в процентах (основная таблица)\n",
    "* Высчитать какую прибыль принесли бы акции компании (в процентах), если бы они были куплены на уровне 52 Week Low и проданы на уровне 52 Week High (справа от графика на странице компании)\n",
    "\n",
    "Сохранить итоговую информацию в 4 JSON файла:\n",
    "1. Топ 10 компаний с самими дорогими акциями в рублях.\n",
    "2. Топ 10 компаний с самым низким показателем P/E.\n",
    "3. Топ 10 компаний, которые показали самый высокий рост за последний год\n",
    "4. Топ 10 комппаний, которые принесли бы наибольшую прибыль, если бы были куплены на самом минимуме и проданы на самом максимуме за последний год.\n",
    "<br>Пример формата:\n",
    "```\n",
    "[\n",
    "{\n",
    "    \"code\": \"MMM\",\n",
    "    \"name\": \"3M CO.\",\n",
    "    \"price\" | \"P/E\" | \"growth\" | \"potential profit\" : value,\n",
    "},\n",
    "...\n",
    "]\n",
    "```\n",
    "<br>**P.S. по-максимуму использовать возможности параллелизма и асинхронности.** \n",
    "<br>\n",
    "* bs4\n",
    "* aiohttp"
   ]
  }
 ],
 "metadata": {
  "celltoolbar": "Слайд-шоу",
  "kernelspec": {
   "display_name": "Python 3",
   "language": "python",
   "name": "python3"
  },
  "language_info": {
   "codemirror_mode": {
    "name": "ipython",
    "version": 3
   },
   "file_extension": ".py",
   "mimetype": "text/x-python",
   "name": "python",
   "nbconvert_exporter": "python",
   "pygments_lexer": "ipython3",
   "version": "3.9.0"
  }
 },
 "nbformat": 4,
 "nbformat_minor": 1
}